{
 "cells": [
  {
   "cell_type": "code",
   "execution_count": 1,
   "id": "6a90e414-4df1-4423-8272-22f9e4a0b123",
   "metadata": {},
   "outputs": [],
   "source": [
    "import mlflow\n",
    "from mlflow.models import infer_signature\n",
    "\n",
    "from sklearn.model_selection import train_test_split\n",
    "from sklearn.datasets import load_diabetes\n",
    "from sklearn.ensemble import RandomForestRegressor"
   ]
  },
  {
   "cell_type": "code",
   "execution_count": 2,
   "id": "b817ccda-e819-4d08-b9b1-deba695baa95",
   "metadata": {},
   "outputs": [],
   "source": [
    "mlflow.set_tracking_uri(\"http://127.0.0.1:5000\")"
   ]
  },
  {
   "cell_type": "code",
   "execution_count": 3,
   "id": "0476e723-e462-4490-8e6f-102c2f40d23d",
   "metadata": {},
   "outputs": [
    {
     "name": "stdout",
     "output_type": "stream",
     "text": [
      "[143.85792813 172.37987584 107.28414798 153.08200979 137.93639808\n",
      " 111.58682488 128.46219877 208.77618817  97.97843188 161.99084574\n",
      " 109.34615089 121.99466633 106.31269208 109.82546129 100.40483418\n",
      "  97.72403517  88.97701181 106.7595961  179.20348001 143.89486234\n",
      " 137.24463661 101.69907596 165.22129658 228.30314316 179.70140657\n",
      " 213.83127554 198.09599278 249.39489925  90.03023366 125.73830826\n",
      " 133.84778827  95.66303497 172.15760907 141.21289755  94.93980508\n",
      " 185.60580054  93.1873868  192.50023457 104.21642342 173.70118846\n",
      " 180.6028982  138.93530392  95.7722734  158.62866818 181.36179093\n",
      " 173.10661208 140.55294425  96.87221382 214.21973091 115.68596098\n",
      " 100.88278698 235.39574303 140.63958816 104.99261436 197.97929407\n",
      " 105.24730853 211.66156674 164.17112479  84.66332567 187.13906305\n",
      " 125.95049722 239.03745815 138.03325541 255.7643083  122.41077781\n",
      " 151.22949161 213.71039382 179.46914011 207.30838018 148.36043336\n",
      " 182.57839877 184.14750659  78.14772859 142.87568719 240.5018138\n",
      "  93.05557238 140.92580047  98.40942302 229.57092719  95.92439948\n",
      " 163.23564082 111.81908733 185.00798782 132.60666137 157.97350122\n",
      " 170.71433814 209.24225251 108.79670207 179.34924094 106.39949774\n",
      " 100.03820622 110.05393926 130.11332819 172.74451765 236.58102364\n",
      "  84.91192977  94.41098747 154.53864852 210.62685539  80.19185564\n",
      " 155.86043196 158.60516572 268.87320034 115.45748487 188.43525577\n",
      " 114.26078675  98.54524712 219.20555196 157.31529108 143.18391992\n",
      " 104.4380772 ]\n",
      "inputs: \n",
      "  [Tensor('float64', (-1, 10))]\n",
      "outputs: \n",
      "  [Tensor('float64', (-1,))]\n",
      "params: \n",
      "  None\n",
      "\n",
      "Run ID: 6f72210dc1364850b39b34a2929269de\n"
     ]
    }
   ],
   "source": [
    "with mlflow.start_run() as run:\n",
    "    # Load the diabetes dataset.\n",
    "    db = load_diabetes()\n",
    "    X_train, X_test, y_train, y_test = train_test_split(db.data, db.target)\n",
    "\n",
    "    # Create and train models.\n",
    "    rf = RandomForestRegressor(n_estimators=100, max_depth=6, max_features=3)\n",
    "    rf.fit(X_train, y_train)\n",
    "\n",
    "    # Use the model to make predictions on the test dataset.\n",
    "    predictions = rf.predict(X_test)\n",
    "    print(predictions)\n",
    "\n",
    "    signature = infer_signature(X_test, predictions)\n",
    "    print(signature)\n",
    "    mlflow.sklearn.log_model(rf, \"model\", signature=signature)\n",
    "\n",
    "    print(f\"Run ID: {run.info.run_id}\")"
   ]
  },
  {
   "cell_type": "code",
   "execution_count": null,
   "id": "1aeb4726-d6df-4ced-b53d-8c8ea4379667",
   "metadata": {},
   "outputs": [],
   "source": []
  }
 ],
 "metadata": {
  "kernelspec": {
   "display_name": "Python 3 (ipykernel)",
   "language": "python",
   "name": "python3"
  },
  "language_info": {
   "codemirror_mode": {
    "name": "ipython",
    "version": 3
   },
   "file_extension": ".py",
   "mimetype": "text/x-python",
   "name": "python",
   "nbconvert_exporter": "python",
   "pygments_lexer": "ipython3",
   "version": "3.10.13"
  }
 },
 "nbformat": 4,
 "nbformat_minor": 5
}
