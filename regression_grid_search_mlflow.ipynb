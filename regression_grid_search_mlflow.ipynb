{
 "cells": [
  {
   "cell_type": "code",
   "execution_count": 34,
   "id": "861e81fb-1c66-4855-8962-a7bccbd7fe52",
   "metadata": {},
   "outputs": [],
   "source": [
    "import mlflow\n",
    "import pandas as pd\n",
    "import numpy as np\n",
    "from sklearn.preprocessing import StandardScaler\n",
    "from sklearn.metrics import make_scorer, mean_squared_error\n",
    "from sklearn.model_selection import ShuffleSplit, GridSearchCV\n",
    "from sklearn.svm import SVR\n",
    "from sklearn.ensemble import RandomForestRegressor"
   ]
  },
  {
   "cell_type": "code",
   "execution_count": 2,
   "id": "fff16213-3579-400a-9197-a0399322332b",
   "metadata": {},
   "outputs": [],
   "source": [
    "mlflow.set_tracking_uri(\"http://127.0.0.1:5000\")"
   ]
  },
  {
   "cell_type": "markdown",
   "id": "3932ee20-faa3-43d7-841e-f5cfbd7a8a0e",
   "metadata": {},
   "source": [
    "https://archive.ics.uci.edu/dataset/449/optical+interconnection+network"
   ]
  },
  {
   "cell_type": "code",
   "execution_count": 3,
   "id": "70ffffd1-2a1f-4a4d-8499-b16bf12225e2",
   "metadata": {},
   "outputs": [
    {
     "data": {
      "text/plain": [
       "'data/network_data.csv'"
      ]
     },
     "execution_count": 3,
     "metadata": {},
     "output_type": "execute_result"
    }
   ],
   "source": [
    "data_path = \"data/network_data.csv\"\n",
    "data_path"
   ]
  },
  {
   "cell_type": "code",
   "execution_count": 4,
   "id": "b929d4ab-bcf6-4946-a9e6-a2ad3413bbe4",
   "metadata": {},
   "outputs": [
    {
     "data": {
      "text/html": [
       "<div>\n",
       "<style scoped>\n",
       "    .dataframe tbody tr th:only-of-type {\n",
       "        vertical-align: middle;\n",
       "    }\n",
       "\n",
       "    .dataframe tbody tr th {\n",
       "        vertical-align: top;\n",
       "    }\n",
       "\n",
       "    .dataframe thead th {\n",
       "        text-align: right;\n",
       "    }\n",
       "</style>\n",
       "<table border=\"1\" class=\"dataframe\">\n",
       "  <thead>\n",
       "    <tr style=\"text-align: right;\">\n",
       "      <th></th>\n",
       "      <th>Node Number</th>\n",
       "      <th>Thread Number</th>\n",
       "      <th>Spatial Distribution</th>\n",
       "      <th>Temporal Distribution</th>\n",
       "      <th>T/R</th>\n",
       "      <th>Processor Utilization</th>\n",
       "      <th>Channel Waiting Time</th>\n",
       "      <th>Input Waiting Time</th>\n",
       "      <th>Network Response Time</th>\n",
       "      <th>Channel Utilization</th>\n",
       "      <th>Unnamed: 10</th>\n",
       "      <th>Unnamed: 11</th>\n",
       "      <th>Unnamed: 12</th>\n",
       "      <th>Unnamed: 13</th>\n",
       "      <th>Unnamed: 14</th>\n",
       "    </tr>\n",
       "  </thead>\n",
       "  <tbody>\n",
       "    <tr>\n",
       "      <th>0</th>\n",
       "      <td>64</td>\n",
       "      <td>4</td>\n",
       "      <td>UN</td>\n",
       "      <td>Client-Server</td>\n",
       "      <td>0,1</td>\n",
       "      <td>0,839546</td>\n",
       "      <td>1,974686</td>\n",
       "      <td>308,491814</td>\n",
       "      <td>700,514102</td>\n",
       "      <td>0,352431</td>\n",
       "      <td>NaN</td>\n",
       "      <td>NaN</td>\n",
       "      <td>NaN</td>\n",
       "      <td>NaN</td>\n",
       "      <td>NaN</td>\n",
       "    </tr>\n",
       "    <tr>\n",
       "      <th>1</th>\n",
       "      <td>64</td>\n",
       "      <td>4</td>\n",
       "      <td>UN</td>\n",
       "      <td>Client-Server</td>\n",
       "      <td>0,2</td>\n",
       "      <td>0,827412</td>\n",
       "      <td>9,556437</td>\n",
       "      <td>291,037663</td>\n",
       "      <td>864,599227</td>\n",
       "      <td>0,506302</td>\n",
       "      <td>NaN</td>\n",
       "      <td>NaN</td>\n",
       "      <td>NaN</td>\n",
       "      <td>NaN</td>\n",
       "      <td>NaN</td>\n",
       "    </tr>\n",
       "    <tr>\n",
       "      <th>2</th>\n",
       "      <td>64</td>\n",
       "      <td>4</td>\n",
       "      <td>UN</td>\n",
       "      <td>Client-Server</td>\n",
       "      <td>0,3</td>\n",
       "      <td>0,802605</td>\n",
       "      <td>27,027618</td>\n",
       "      <td>264,928002</td>\n",
       "      <td>839,372851</td>\n",
       "      <td>0,638516</td>\n",
       "      <td>NaN</td>\n",
       "      <td>NaN</td>\n",
       "      <td>NaN</td>\n",
       "      <td>NaN</td>\n",
       "      <td>NaN</td>\n",
       "    </tr>\n",
       "    <tr>\n",
       "      <th>3</th>\n",
       "      <td>64</td>\n",
       "      <td>4</td>\n",
       "      <td>UN</td>\n",
       "      <td>Client-Server</td>\n",
       "      <td>0,4</td>\n",
       "      <td>0,723403</td>\n",
       "      <td>61,848511</td>\n",
       "      <td>235,776888</td>\n",
       "      <td>1256,053108</td>\n",
       "      <td>0,767051</td>\n",
       "      <td>NaN</td>\n",
       "      <td>NaN</td>\n",
       "      <td>NaN</td>\n",
       "      <td>NaN</td>\n",
       "      <td>NaN</td>\n",
       "    </tr>\n",
       "    <tr>\n",
       "      <th>4</th>\n",
       "      <td>64</td>\n",
       "      <td>4</td>\n",
       "      <td>UN</td>\n",
       "      <td>Client-Server</td>\n",
       "      <td>0,5</td>\n",
       "      <td>0,72121</td>\n",
       "      <td>121,085884</td>\n",
       "      <td>189,680044</td>\n",
       "      <td>1343,875577</td>\n",
       "      <td>0,807812</td>\n",
       "      <td>NaN</td>\n",
       "      <td>NaN</td>\n",
       "      <td>NaN</td>\n",
       "      <td>NaN</td>\n",
       "      <td>NaN</td>\n",
       "    </tr>\n",
       "    <tr>\n",
       "      <th>...</th>\n",
       "      <td>...</td>\n",
       "      <td>...</td>\n",
       "      <td>...</td>\n",
       "      <td>...</td>\n",
       "      <td>...</td>\n",
       "      <td>...</td>\n",
       "      <td>...</td>\n",
       "      <td>...</td>\n",
       "      <td>...</td>\n",
       "      <td>...</td>\n",
       "      <td>...</td>\n",
       "      <td>...</td>\n",
       "      <td>...</td>\n",
       "      <td>...</td>\n",
       "      <td>...</td>\n",
       "    </tr>\n",
       "    <tr>\n",
       "      <th>635</th>\n",
       "      <td>16</td>\n",
       "      <td>10</td>\n",
       "      <td>PS</td>\n",
       "      <td>Asynchronous</td>\n",
       "      <td>0,6</td>\n",
       "      <td>0,79234</td>\n",
       "      <td>532,737732</td>\n",
       "      <td>363,094043</td>\n",
       "      <td>1214,057768</td>\n",
       "      <td>0,961042</td>\n",
       "      <td>NaN</td>\n",
       "      <td>NaN</td>\n",
       "      <td>NaN</td>\n",
       "      <td>NaN</td>\n",
       "      <td>NaN</td>\n",
       "    </tr>\n",
       "    <tr>\n",
       "      <th>636</th>\n",
       "      <td>16</td>\n",
       "      <td>10</td>\n",
       "      <td>PS</td>\n",
       "      <td>Asynchronous</td>\n",
       "      <td>0,7</td>\n",
       "      <td>0,707199</td>\n",
       "      <td>751,67511</td>\n",
       "      <td>224,638088</td>\n",
       "      <td>1653,736882</td>\n",
       "      <td>0,981944</td>\n",
       "      <td>NaN</td>\n",
       "      <td>NaN</td>\n",
       "      <td>NaN</td>\n",
       "      <td>NaN</td>\n",
       "      <td>NaN</td>\n",
       "    </tr>\n",
       "    <tr>\n",
       "      <th>637</th>\n",
       "      <td>16</td>\n",
       "      <td>10</td>\n",
       "      <td>PS</td>\n",
       "      <td>Asynchronous</td>\n",
       "      <td>0,8</td>\n",
       "      <td>0,61823</td>\n",
       "      <td>905,326843</td>\n",
       "      <td>206,922631</td>\n",
       "      <td>1421,304936</td>\n",
       "      <td>0,9625</td>\n",
       "      <td>NaN</td>\n",
       "      <td>NaN</td>\n",
       "      <td>NaN</td>\n",
       "      <td>NaN</td>\n",
       "      <td>NaN</td>\n",
       "    </tr>\n",
       "    <tr>\n",
       "      <th>638</th>\n",
       "      <td>16</td>\n",
       "      <td>10</td>\n",
       "      <td>PS</td>\n",
       "      <td>Asynchronous</td>\n",
       "      <td>0,9</td>\n",
       "      <td>0,564482</td>\n",
       "      <td>1048,269897</td>\n",
       "      <td>154,713952</td>\n",
       "      <td>2371,043062</td>\n",
       "      <td>0,979375</td>\n",
       "      <td>NaN</td>\n",
       "      <td>NaN</td>\n",
       "      <td>NaN</td>\n",
       "      <td>NaN</td>\n",
       "      <td>NaN</td>\n",
       "    </tr>\n",
       "    <tr>\n",
       "      <th>639</th>\n",
       "      <td>16</td>\n",
       "      <td>10</td>\n",
       "      <td>PS</td>\n",
       "      <td>Asynchronous</td>\n",
       "      <td>1</td>\n",
       "      <td>0,515257</td>\n",
       "      <td>1184,647461</td>\n",
       "      <td>136,375081</td>\n",
       "      <td>2592,966463</td>\n",
       "      <td>0,980903</td>\n",
       "      <td>NaN</td>\n",
       "      <td>NaN</td>\n",
       "      <td>NaN</td>\n",
       "      <td>NaN</td>\n",
       "      <td>NaN</td>\n",
       "    </tr>\n",
       "  </tbody>\n",
       "</table>\n",
       "<p>640 rows × 15 columns</p>\n",
       "</div>"
      ],
      "text/plain": [
       "     Node Number  Thread Number Spatial Distribution Temporal Distribution  \\\n",
       "0             64              4                   UN         Client-Server   \n",
       "1             64              4                   UN         Client-Server   \n",
       "2             64              4                   UN         Client-Server   \n",
       "3             64              4                   UN         Client-Server   \n",
       "4             64              4                   UN         Client-Server   \n",
       "..           ...            ...                  ...                   ...   \n",
       "635           16             10                   PS          Asynchronous   \n",
       "636           16             10                   PS          Asynchronous   \n",
       "637           16             10                   PS          Asynchronous   \n",
       "638           16             10                   PS          Asynchronous   \n",
       "639           16             10                   PS          Asynchronous   \n",
       "\n",
       "     T/R Processor Utilization  Channel Waiting Time Input Waiting Time  \\\n",
       "0    0,1               0,839546             1,974686         308,491814   \n",
       "1    0,2               0,827412             9,556437         291,037663   \n",
       "2    0,3               0,802605            27,027618         264,928002   \n",
       "3    0,4               0,723403            61,848511         235,776888   \n",
       "4    0,5                0,72121           121,085884         189,680044   \n",
       "..   ...                    ...                  ...                ...   \n",
       "635  0,6                0,79234           532,737732         363,094043   \n",
       "636  0,7               0,707199            751,67511         224,638088   \n",
       "637  0,8                0,61823           905,326843         206,922631   \n",
       "638  0,9               0,564482          1048,269897         154,713952   \n",
       "639    1               0,515257          1184,647461         136,375081   \n",
       "\n",
       "    Network Response Time Channel Utilization  Unnamed: 10  Unnamed: 11  \\\n",
       "0              700,514102            0,352431          NaN          NaN   \n",
       "1              864,599227            0,506302          NaN          NaN   \n",
       "2              839,372851            0,638516          NaN          NaN   \n",
       "3             1256,053108            0,767051          NaN          NaN   \n",
       "4             1343,875577            0,807812          NaN          NaN   \n",
       "..                    ...                 ...          ...          ...   \n",
       "635           1214,057768            0,961042          NaN          NaN   \n",
       "636           1653,736882            0,981944          NaN          NaN   \n",
       "637           1421,304936              0,9625          NaN          NaN   \n",
       "638           2371,043062            0,979375          NaN          NaN   \n",
       "639           2592,966463            0,980903          NaN          NaN   \n",
       "\n",
       "     Unnamed: 12  Unnamed: 13  Unnamed: 14  \n",
       "0            NaN          NaN          NaN  \n",
       "1            NaN          NaN          NaN  \n",
       "2            NaN          NaN          NaN  \n",
       "3            NaN          NaN          NaN  \n",
       "4            NaN          NaN          NaN  \n",
       "..           ...          ...          ...  \n",
       "635          NaN          NaN          NaN  \n",
       "636          NaN          NaN          NaN  \n",
       "637          NaN          NaN          NaN  \n",
       "638          NaN          NaN          NaN  \n",
       "639          NaN          NaN          NaN  \n",
       "\n",
       "[640 rows x 15 columns]"
      ]
     },
     "execution_count": 4,
     "metadata": {},
     "output_type": "execute_result"
    }
   ],
   "source": [
    "df = pd.read_csv(data_path, sep=\";\")\n",
    "df"
   ]
  },
  {
   "cell_type": "code",
   "execution_count": 5,
   "id": "ee9096ec-b94a-46fd-823f-8bbd5c81bdb2",
   "metadata": {},
   "outputs": [
    {
     "data": {
      "text/plain": [
       "Index(['Node Number', 'Thread Number', 'Spatial Distribution',\n",
       "       'Temporal Distribution', 'T/R', 'Processor Utilization ',\n",
       "       'Channel Waiting Time', 'Input Waiting Time', 'Network Response Time',\n",
       "       'Channel Utilization', 'Unnamed: 10', 'Unnamed: 11', 'Unnamed: 12',\n",
       "       'Unnamed: 13', 'Unnamed: 14'],\n",
       "      dtype='object')"
      ]
     },
     "execution_count": 5,
     "metadata": {},
     "output_type": "execute_result"
    }
   ],
   "source": [
    "df.columns"
   ]
  },
  {
   "cell_type": "code",
   "execution_count": 6,
   "id": "99bb2a74-deaf-4d81-94ff-23802a05dea6",
   "metadata": {},
   "outputs": [
    {
     "data": {
      "text/plain": [
       "Node Number                 int64\n",
       "Thread Number               int64\n",
       "Spatial Distribution       object\n",
       "Temporal Distribution      object\n",
       "T/R                        object\n",
       "Processor Utilization      object\n",
       "Channel Waiting Time       object\n",
       "Input Waiting Time         object\n",
       "Network Response Time      object\n",
       "Channel Utilization        object\n",
       "Unnamed: 10               float64\n",
       "Unnamed: 11               float64\n",
       "Unnamed: 12               float64\n",
       "Unnamed: 13               float64\n",
       "Unnamed: 14               float64\n",
       "dtype: object"
      ]
     },
     "execution_count": 6,
     "metadata": {},
     "output_type": "execute_result"
    }
   ],
   "source": [
    "df.dtypes"
   ]
  },
  {
   "cell_type": "code",
   "execution_count": 7,
   "id": "4a608d5b-0409-4287-8fef-5c7cde94589c",
   "metadata": {},
   "outputs": [],
   "source": [
    "del(df[\"Spatial Distribution\"])\n",
    "del(df[\"Temporal Distribution\"])\n",
    "for index in range(10, 15): \n",
    "    del(df[f\"Unnamed: {index}\"])"
   ]
  },
  {
   "cell_type": "code",
   "execution_count": 8,
   "id": "f1ac5759-0aa8-4d4b-9aed-e6f5b7314dd1",
   "metadata": {},
   "outputs": [],
   "source": [
    "for column in df.columns:\n",
    "    df[column] = df[column].apply(lambda value: str(value).replace(\",\", \".\"))"
   ]
  },
  {
   "cell_type": "code",
   "execution_count": 9,
   "id": "608ab4b8-5d2d-4f94-8fe0-6300a063e4d9",
   "metadata": {},
   "outputs": [
    {
     "data": {
      "text/html": [
       "<div>\n",
       "<style scoped>\n",
       "    .dataframe tbody tr th:only-of-type {\n",
       "        vertical-align: middle;\n",
       "    }\n",
       "\n",
       "    .dataframe tbody tr th {\n",
       "        vertical-align: top;\n",
       "    }\n",
       "\n",
       "    .dataframe thead th {\n",
       "        text-align: right;\n",
       "    }\n",
       "</style>\n",
       "<table border=\"1\" class=\"dataframe\">\n",
       "  <thead>\n",
       "    <tr style=\"text-align: right;\">\n",
       "      <th></th>\n",
       "      <th>Node Number</th>\n",
       "      <th>Thread Number</th>\n",
       "      <th>T/R</th>\n",
       "      <th>Processor Utilization</th>\n",
       "      <th>Channel Waiting Time</th>\n",
       "      <th>Input Waiting Time</th>\n",
       "      <th>Network Response Time</th>\n",
       "      <th>Channel Utilization</th>\n",
       "    </tr>\n",
       "  </thead>\n",
       "  <tbody>\n",
       "    <tr>\n",
       "      <th>0</th>\n",
       "      <td>64</td>\n",
       "      <td>4</td>\n",
       "      <td>0.1</td>\n",
       "      <td>0.839546</td>\n",
       "      <td>1.974686</td>\n",
       "      <td>308.491814</td>\n",
       "      <td>700.514102</td>\n",
       "      <td>0.352431</td>\n",
       "    </tr>\n",
       "    <tr>\n",
       "      <th>1</th>\n",
       "      <td>64</td>\n",
       "      <td>4</td>\n",
       "      <td>0.2</td>\n",
       "      <td>0.827412</td>\n",
       "      <td>9.556437</td>\n",
       "      <td>291.037663</td>\n",
       "      <td>864.599227</td>\n",
       "      <td>0.506302</td>\n",
       "    </tr>\n",
       "    <tr>\n",
       "      <th>2</th>\n",
       "      <td>64</td>\n",
       "      <td>4</td>\n",
       "      <td>0.3</td>\n",
       "      <td>0.802605</td>\n",
       "      <td>27.027618</td>\n",
       "      <td>264.928002</td>\n",
       "      <td>839.372851</td>\n",
       "      <td>0.638516</td>\n",
       "    </tr>\n",
       "    <tr>\n",
       "      <th>3</th>\n",
       "      <td>64</td>\n",
       "      <td>4</td>\n",
       "      <td>0.4</td>\n",
       "      <td>0.723403</td>\n",
       "      <td>61.848511</td>\n",
       "      <td>235.776888</td>\n",
       "      <td>1256.053108</td>\n",
       "      <td>0.767051</td>\n",
       "    </tr>\n",
       "    <tr>\n",
       "      <th>4</th>\n",
       "      <td>64</td>\n",
       "      <td>4</td>\n",
       "      <td>0.5</td>\n",
       "      <td>0.72121</td>\n",
       "      <td>121.085884</td>\n",
       "      <td>189.680044</td>\n",
       "      <td>1343.875577</td>\n",
       "      <td>0.807812</td>\n",
       "    </tr>\n",
       "    <tr>\n",
       "      <th>...</th>\n",
       "      <td>...</td>\n",
       "      <td>...</td>\n",
       "      <td>...</td>\n",
       "      <td>...</td>\n",
       "      <td>...</td>\n",
       "      <td>...</td>\n",
       "      <td>...</td>\n",
       "      <td>...</td>\n",
       "    </tr>\n",
       "    <tr>\n",
       "      <th>635</th>\n",
       "      <td>16</td>\n",
       "      <td>10</td>\n",
       "      <td>0.6</td>\n",
       "      <td>0.79234</td>\n",
       "      <td>532.737732</td>\n",
       "      <td>363.094043</td>\n",
       "      <td>1214.057768</td>\n",
       "      <td>0.961042</td>\n",
       "    </tr>\n",
       "    <tr>\n",
       "      <th>636</th>\n",
       "      <td>16</td>\n",
       "      <td>10</td>\n",
       "      <td>0.7</td>\n",
       "      <td>0.707199</td>\n",
       "      <td>751.67511</td>\n",
       "      <td>224.638088</td>\n",
       "      <td>1653.736882</td>\n",
       "      <td>0.981944</td>\n",
       "    </tr>\n",
       "    <tr>\n",
       "      <th>637</th>\n",
       "      <td>16</td>\n",
       "      <td>10</td>\n",
       "      <td>0.8</td>\n",
       "      <td>0.61823</td>\n",
       "      <td>905.326843</td>\n",
       "      <td>206.922631</td>\n",
       "      <td>1421.304936</td>\n",
       "      <td>0.9625</td>\n",
       "    </tr>\n",
       "    <tr>\n",
       "      <th>638</th>\n",
       "      <td>16</td>\n",
       "      <td>10</td>\n",
       "      <td>0.9</td>\n",
       "      <td>0.564482</td>\n",
       "      <td>1048.269897</td>\n",
       "      <td>154.713952</td>\n",
       "      <td>2371.043062</td>\n",
       "      <td>0.979375</td>\n",
       "    </tr>\n",
       "    <tr>\n",
       "      <th>639</th>\n",
       "      <td>16</td>\n",
       "      <td>10</td>\n",
       "      <td>1</td>\n",
       "      <td>0.515257</td>\n",
       "      <td>1184.647461</td>\n",
       "      <td>136.375081</td>\n",
       "      <td>2592.966463</td>\n",
       "      <td>0.980903</td>\n",
       "    </tr>\n",
       "  </tbody>\n",
       "</table>\n",
       "<p>640 rows × 8 columns</p>\n",
       "</div>"
      ],
      "text/plain": [
       "    Node Number Thread Number  T/R Processor Utilization   \\\n",
       "0            64             4  0.1               0.839546   \n",
       "1            64             4  0.2               0.827412   \n",
       "2            64             4  0.3               0.802605   \n",
       "3            64             4  0.4               0.723403   \n",
       "4            64             4  0.5                0.72121   \n",
       "..          ...           ...  ...                    ...   \n",
       "635          16            10  0.6                0.79234   \n",
       "636          16            10  0.7               0.707199   \n",
       "637          16            10  0.8                0.61823   \n",
       "638          16            10  0.9               0.564482   \n",
       "639          16            10    1               0.515257   \n",
       "\n",
       "    Channel Waiting Time Input Waiting Time Network Response Time  \\\n",
       "0               1.974686         308.491814            700.514102   \n",
       "1               9.556437         291.037663            864.599227   \n",
       "2              27.027618         264.928002            839.372851   \n",
       "3              61.848511         235.776888           1256.053108   \n",
       "4             121.085884         189.680044           1343.875577   \n",
       "..                   ...                ...                   ...   \n",
       "635           532.737732         363.094043           1214.057768   \n",
       "636            751.67511         224.638088           1653.736882   \n",
       "637           905.326843         206.922631           1421.304936   \n",
       "638          1048.269897         154.713952           2371.043062   \n",
       "639          1184.647461         136.375081           2592.966463   \n",
       "\n",
       "    Channel Utilization  \n",
       "0              0.352431  \n",
       "1              0.506302  \n",
       "2              0.638516  \n",
       "3              0.767051  \n",
       "4              0.807812  \n",
       "..                  ...  \n",
       "635            0.961042  \n",
       "636            0.981944  \n",
       "637              0.9625  \n",
       "638            0.979375  \n",
       "639            0.980903  \n",
       "\n",
       "[640 rows x 8 columns]"
      ]
     },
     "execution_count": 9,
     "metadata": {},
     "output_type": "execute_result"
    }
   ],
   "source": [
    "df"
   ]
  },
  {
   "cell_type": "code",
   "execution_count": 10,
   "id": "5be4ca2a-ab0f-456b-8f9a-5a0263749733",
   "metadata": {},
   "outputs": [
    {
     "data": {
      "text/plain": [
       "0      0.352431\n",
       "1      0.506302\n",
       "2      0.638516\n",
       "3      0.767051\n",
       "4      0.807812\n",
       "         ...   \n",
       "635    0.961042\n",
       "636    0.981944\n",
       "637      0.9625\n",
       "638    0.979375\n",
       "639    0.980903\n",
       "Name: Channel Utilization, Length: 640, dtype: object"
      ]
     },
     "execution_count": 10,
     "metadata": {},
     "output_type": "execute_result"
    }
   ],
   "source": [
    "targets = df[\"Channel Utilization\"]\n",
    "targets"
   ]
  },
  {
   "cell_type": "code",
   "execution_count": 11,
   "id": "becbc19b-7d20-476e-9fdb-325aa54f40bd",
   "metadata": {},
   "outputs": [],
   "source": [
    "del(df[\"Channel Utilization\"])"
   ]
  },
  {
   "cell_type": "code",
   "execution_count": 12,
   "id": "de196a16-e485-4e5a-83c2-fd9320824962",
   "metadata": {},
   "outputs": [
    {
     "data": {
      "text/html": [
       "<div>\n",
       "<style scoped>\n",
       "    .dataframe tbody tr th:only-of-type {\n",
       "        vertical-align: middle;\n",
       "    }\n",
       "\n",
       "    .dataframe tbody tr th {\n",
       "        vertical-align: top;\n",
       "    }\n",
       "\n",
       "    .dataframe thead th {\n",
       "        text-align: right;\n",
       "    }\n",
       "</style>\n",
       "<table border=\"1\" class=\"dataframe\">\n",
       "  <thead>\n",
       "    <tr style=\"text-align: right;\">\n",
       "      <th></th>\n",
       "      <th>Node Number</th>\n",
       "      <th>Thread Number</th>\n",
       "      <th>T/R</th>\n",
       "      <th>Processor Utilization</th>\n",
       "      <th>Channel Waiting Time</th>\n",
       "      <th>Input Waiting Time</th>\n",
       "      <th>Network Response Time</th>\n",
       "    </tr>\n",
       "  </thead>\n",
       "  <tbody>\n",
       "    <tr>\n",
       "      <th>0</th>\n",
       "      <td>64</td>\n",
       "      <td>4</td>\n",
       "      <td>0.1</td>\n",
       "      <td>0.839546</td>\n",
       "      <td>1.974686</td>\n",
       "      <td>308.491814</td>\n",
       "      <td>700.514102</td>\n",
       "    </tr>\n",
       "    <tr>\n",
       "      <th>1</th>\n",
       "      <td>64</td>\n",
       "      <td>4</td>\n",
       "      <td>0.2</td>\n",
       "      <td>0.827412</td>\n",
       "      <td>9.556437</td>\n",
       "      <td>291.037663</td>\n",
       "      <td>864.599227</td>\n",
       "    </tr>\n",
       "    <tr>\n",
       "      <th>2</th>\n",
       "      <td>64</td>\n",
       "      <td>4</td>\n",
       "      <td>0.3</td>\n",
       "      <td>0.802605</td>\n",
       "      <td>27.027618</td>\n",
       "      <td>264.928002</td>\n",
       "      <td>839.372851</td>\n",
       "    </tr>\n",
       "    <tr>\n",
       "      <th>3</th>\n",
       "      <td>64</td>\n",
       "      <td>4</td>\n",
       "      <td>0.4</td>\n",
       "      <td>0.723403</td>\n",
       "      <td>61.848511</td>\n",
       "      <td>235.776888</td>\n",
       "      <td>1256.053108</td>\n",
       "    </tr>\n",
       "    <tr>\n",
       "      <th>4</th>\n",
       "      <td>64</td>\n",
       "      <td>4</td>\n",
       "      <td>0.5</td>\n",
       "      <td>0.72121</td>\n",
       "      <td>121.085884</td>\n",
       "      <td>189.680044</td>\n",
       "      <td>1343.875577</td>\n",
       "    </tr>\n",
       "    <tr>\n",
       "      <th>...</th>\n",
       "      <td>...</td>\n",
       "      <td>...</td>\n",
       "      <td>...</td>\n",
       "      <td>...</td>\n",
       "      <td>...</td>\n",
       "      <td>...</td>\n",
       "      <td>...</td>\n",
       "    </tr>\n",
       "    <tr>\n",
       "      <th>635</th>\n",
       "      <td>16</td>\n",
       "      <td>10</td>\n",
       "      <td>0.6</td>\n",
       "      <td>0.79234</td>\n",
       "      <td>532.737732</td>\n",
       "      <td>363.094043</td>\n",
       "      <td>1214.057768</td>\n",
       "    </tr>\n",
       "    <tr>\n",
       "      <th>636</th>\n",
       "      <td>16</td>\n",
       "      <td>10</td>\n",
       "      <td>0.7</td>\n",
       "      <td>0.707199</td>\n",
       "      <td>751.67511</td>\n",
       "      <td>224.638088</td>\n",
       "      <td>1653.736882</td>\n",
       "    </tr>\n",
       "    <tr>\n",
       "      <th>637</th>\n",
       "      <td>16</td>\n",
       "      <td>10</td>\n",
       "      <td>0.8</td>\n",
       "      <td>0.61823</td>\n",
       "      <td>905.326843</td>\n",
       "      <td>206.922631</td>\n",
       "      <td>1421.304936</td>\n",
       "    </tr>\n",
       "    <tr>\n",
       "      <th>638</th>\n",
       "      <td>16</td>\n",
       "      <td>10</td>\n",
       "      <td>0.9</td>\n",
       "      <td>0.564482</td>\n",
       "      <td>1048.269897</td>\n",
       "      <td>154.713952</td>\n",
       "      <td>2371.043062</td>\n",
       "    </tr>\n",
       "    <tr>\n",
       "      <th>639</th>\n",
       "      <td>16</td>\n",
       "      <td>10</td>\n",
       "      <td>1</td>\n",
       "      <td>0.515257</td>\n",
       "      <td>1184.647461</td>\n",
       "      <td>136.375081</td>\n",
       "      <td>2592.966463</td>\n",
       "    </tr>\n",
       "  </tbody>\n",
       "</table>\n",
       "<p>640 rows × 7 columns</p>\n",
       "</div>"
      ],
      "text/plain": [
       "    Node Number Thread Number  T/R Processor Utilization   \\\n",
       "0            64             4  0.1               0.839546   \n",
       "1            64             4  0.2               0.827412   \n",
       "2            64             4  0.3               0.802605   \n",
       "3            64             4  0.4               0.723403   \n",
       "4            64             4  0.5                0.72121   \n",
       "..          ...           ...  ...                    ...   \n",
       "635          16            10  0.6                0.79234   \n",
       "636          16            10  0.7               0.707199   \n",
       "637          16            10  0.8                0.61823   \n",
       "638          16            10  0.9               0.564482   \n",
       "639          16            10    1               0.515257   \n",
       "\n",
       "    Channel Waiting Time Input Waiting Time Network Response Time  \n",
       "0               1.974686         308.491814            700.514102  \n",
       "1               9.556437         291.037663            864.599227  \n",
       "2              27.027618         264.928002            839.372851  \n",
       "3              61.848511         235.776888           1256.053108  \n",
       "4             121.085884         189.680044           1343.875577  \n",
       "..                   ...                ...                   ...  \n",
       "635           532.737732         363.094043           1214.057768  \n",
       "636            751.67511         224.638088           1653.736882  \n",
       "637           905.326843         206.922631           1421.304936  \n",
       "638          1048.269897         154.713952           2371.043062  \n",
       "639          1184.647461         136.375081           2592.966463  \n",
       "\n",
       "[640 rows x 7 columns]"
      ]
     },
     "execution_count": 12,
     "metadata": {},
     "output_type": "execute_result"
    }
   ],
   "source": [
    "df"
   ]
  },
  {
   "cell_type": "code",
   "execution_count": 13,
   "id": "dedcd287-7c11-49a3-8489-d3aea2b1850c",
   "metadata": {},
   "outputs": [
    {
     "data": {
      "text/html": [
       "<style>#sk-container-id-1 {color: black;}#sk-container-id-1 pre{padding: 0;}#sk-container-id-1 div.sk-toggleable {background-color: white;}#sk-container-id-1 label.sk-toggleable__label {cursor: pointer;display: block;width: 100%;margin-bottom: 0;padding: 0.3em;box-sizing: border-box;text-align: center;}#sk-container-id-1 label.sk-toggleable__label-arrow:before {content: \"▸\";float: left;margin-right: 0.25em;color: #696969;}#sk-container-id-1 label.sk-toggleable__label-arrow:hover:before {color: black;}#sk-container-id-1 div.sk-estimator:hover label.sk-toggleable__label-arrow:before {color: black;}#sk-container-id-1 div.sk-toggleable__content {max-height: 0;max-width: 0;overflow: hidden;text-align: left;background-color: #f0f8ff;}#sk-container-id-1 div.sk-toggleable__content pre {margin: 0.2em;color: black;border-radius: 0.25em;background-color: #f0f8ff;}#sk-container-id-1 input.sk-toggleable__control:checked~div.sk-toggleable__content {max-height: 200px;max-width: 100%;overflow: auto;}#sk-container-id-1 input.sk-toggleable__control:checked~label.sk-toggleable__label-arrow:before {content: \"▾\";}#sk-container-id-1 div.sk-estimator input.sk-toggleable__control:checked~label.sk-toggleable__label {background-color: #d4ebff;}#sk-container-id-1 div.sk-label input.sk-toggleable__control:checked~label.sk-toggleable__label {background-color: #d4ebff;}#sk-container-id-1 input.sk-hidden--visually {border: 0;clip: rect(1px 1px 1px 1px);clip: rect(1px, 1px, 1px, 1px);height: 1px;margin: -1px;overflow: hidden;padding: 0;position: absolute;width: 1px;}#sk-container-id-1 div.sk-estimator {font-family: monospace;background-color: #f0f8ff;border: 1px dotted black;border-radius: 0.25em;box-sizing: border-box;margin-bottom: 0.5em;}#sk-container-id-1 div.sk-estimator:hover {background-color: #d4ebff;}#sk-container-id-1 div.sk-parallel-item::after {content: \"\";width: 100%;border-bottom: 1px solid gray;flex-grow: 1;}#sk-container-id-1 div.sk-label:hover label.sk-toggleable__label {background-color: #d4ebff;}#sk-container-id-1 div.sk-serial::before {content: \"\";position: absolute;border-left: 1px solid gray;box-sizing: border-box;top: 0;bottom: 0;left: 50%;z-index: 0;}#sk-container-id-1 div.sk-serial {display: flex;flex-direction: column;align-items: center;background-color: white;padding-right: 0.2em;padding-left: 0.2em;position: relative;}#sk-container-id-1 div.sk-item {position: relative;z-index: 1;}#sk-container-id-1 div.sk-parallel {display: flex;align-items: stretch;justify-content: center;background-color: white;position: relative;}#sk-container-id-1 div.sk-item::before, #sk-container-id-1 div.sk-parallel-item::before {content: \"\";position: absolute;border-left: 1px solid gray;box-sizing: border-box;top: 0;bottom: 0;left: 50%;z-index: -1;}#sk-container-id-1 div.sk-parallel-item {display: flex;flex-direction: column;z-index: 1;position: relative;background-color: white;}#sk-container-id-1 div.sk-parallel-item:first-child::after {align-self: flex-end;width: 50%;}#sk-container-id-1 div.sk-parallel-item:last-child::after {align-self: flex-start;width: 50%;}#sk-container-id-1 div.sk-parallel-item:only-child::after {width: 0;}#sk-container-id-1 div.sk-dashed-wrapped {border: 1px dashed gray;margin: 0 0.4em 0.5em 0.4em;box-sizing: border-box;padding-bottom: 0.4em;background-color: white;}#sk-container-id-1 div.sk-label label {font-family: monospace;font-weight: bold;display: inline-block;line-height: 1.2em;}#sk-container-id-1 div.sk-label-container {text-align: center;}#sk-container-id-1 div.sk-container {/* jupyter's `normalize.less` sets `[hidden] { display: none; }` but bootstrap.min.css set `[hidden] { display: none !important; }` so we also need the `!important` here to be able to override the default hidden behavior on the sphinx rendered scikit-learn.org. See: https://github.com/scikit-learn/scikit-learn/issues/21755 */display: inline-block !important;position: relative;}#sk-container-id-1 div.sk-text-repr-fallback {display: none;}</style><div id=\"sk-container-id-1\" class=\"sk-top-container\"><div class=\"sk-text-repr-fallback\"><pre>StandardScaler()</pre><b>In a Jupyter environment, please rerun this cell to show the HTML representation or trust the notebook. <br />On GitHub, the HTML representation is unable to render, please try loading this page with nbviewer.org.</b></div><div class=\"sk-container\" hidden><div class=\"sk-item\"><div class=\"sk-estimator sk-toggleable\"><input class=\"sk-toggleable__control sk-hidden--visually\" id=\"sk-estimator-id-1\" type=\"checkbox\" checked><label for=\"sk-estimator-id-1\" class=\"sk-toggleable__label sk-toggleable__label-arrow\">StandardScaler</label><div class=\"sk-toggleable__content\"><pre>StandardScaler()</pre></div></div></div></div></div>"
      ],
      "text/plain": [
       "StandardScaler()"
      ]
     },
     "execution_count": 13,
     "metadata": {},
     "output_type": "execute_result"
    }
   ],
   "source": [
    "scaler = StandardScaler()\n",
    "scaler"
   ]
  },
  {
   "cell_type": "code",
   "execution_count": 14,
   "id": "befca661-f0d8-4e5c-8d13-6fa81099b42d",
   "metadata": {},
   "outputs": [
    {
     "data": {
      "text/plain": [
       "array([[ 1.        , -1.34164079, -1.5666989 , ..., -0.98377711,\n",
       "        -0.10600057, -0.66884868],\n",
       "       [ 1.        , -1.34164079, -1.21854359, ..., -0.96391276,\n",
       "        -0.18073814, -0.53230077],\n",
       "       [ 1.        , -1.34164079, -0.87038828, ..., -0.91813791,\n",
       "        -0.29253805, -0.55329359],\n",
       "       ...,\n",
       "       [-1.        ,  1.34164079,  0.87038828, ...,  1.3830243 ,\n",
       "        -0.54091336, -0.06902294],\n",
       "       [-1.        ,  1.34164079,  1.21854359, ...,  1.75753807,\n",
       "        -0.76446761,  0.72132753],\n",
       "       [-1.        ,  1.34164079,  1.5666989 , ...,  2.11485012,\n",
       "        -0.8429935 ,  0.90600713]])"
      ]
     },
     "execution_count": 14,
     "metadata": {},
     "output_type": "execute_result"
    }
   ],
   "source": [
    "X_standardized = scaler.fit_transform(df)\n",
    "X_standardized"
   ]
  },
  {
   "cell_type": "code",
   "execution_count": 15,
   "id": "3a7ae75a-e5c4-42bf-b775-e3948e061923",
   "metadata": {},
   "outputs": [
    {
     "data": {
      "text/plain": [
       "((640, 7), 640)"
      ]
     },
     "execution_count": 15,
     "metadata": {},
     "output_type": "execute_result"
    }
   ],
   "source": [
    "(len(X_standardized), len(X_standardized[0])), len(targets)"
   ]
  },
  {
   "cell_type": "code",
   "execution_count": 16,
   "id": "31592e75-f0c3-48a2-86f0-4cf8d901c3f0",
   "metadata": {},
   "outputs": [
    {
     "data": {
      "text/plain": [
       "(numpy.ndarray, pandas.core.series.Series)"
      ]
     },
     "execution_count": 16,
     "metadata": {},
     "output_type": "execute_result"
    }
   ],
   "source": [
    "type(X_standardized), type(targets)"
   ]
  },
  {
   "cell_type": "code",
   "execution_count": 17,
   "id": "5c8f9775-3d9f-47dd-a857-b135d45772cf",
   "metadata": {},
   "outputs": [],
   "source": [
    "targets = np.asarray(targets, dtype=float)"
   ]
  },
  {
   "cell_type": "markdown",
   "id": "c21df2dc-2e67-4a23-a1c5-b0ecf3e89757",
   "metadata": {},
   "source": [
    "---"
   ]
  },
  {
   "cell_type": "code",
   "execution_count": 18,
   "id": "9c2aee39-4d0c-452c-94ec-19b1ebd32b98",
   "metadata": {},
   "outputs": [],
   "source": [
    "experiment_name = 'RegressionWithMLflow'\n",
    "try:\n",
    "    exp_id = mlflow.create_experiment(name=experiment_name)\n",
    "except Exception as e:\n",
    "    exp_id = mlflow.get_experiment_by_name(experiment_name).experiment_id"
   ]
  },
  {
   "cell_type": "code",
   "execution_count": 19,
   "id": "9bc72e17-461e-4f0c-8c63-29306757e10d",
   "metadata": {},
   "outputs": [],
   "source": [
    "mlflow.sklearn.autolog(max_tuning_runs=None) # enable autologging"
   ]
  },
  {
   "cell_type": "code",
   "execution_count": 39,
   "id": "31766a73-31a5-4bd2-aa25-d8636055fd7b",
   "metadata": {},
   "outputs": [
    {
     "data": {
      "text/html": [
       "<style>#sk-container-id-10 {color: black;}#sk-container-id-10 pre{padding: 0;}#sk-container-id-10 div.sk-toggleable {background-color: white;}#sk-container-id-10 label.sk-toggleable__label {cursor: pointer;display: block;width: 100%;margin-bottom: 0;padding: 0.3em;box-sizing: border-box;text-align: center;}#sk-container-id-10 label.sk-toggleable__label-arrow:before {content: \"▸\";float: left;margin-right: 0.25em;color: #696969;}#sk-container-id-10 label.sk-toggleable__label-arrow:hover:before {color: black;}#sk-container-id-10 div.sk-estimator:hover label.sk-toggleable__label-arrow:before {color: black;}#sk-container-id-10 div.sk-toggleable__content {max-height: 0;max-width: 0;overflow: hidden;text-align: left;background-color: #f0f8ff;}#sk-container-id-10 div.sk-toggleable__content pre {margin: 0.2em;color: black;border-radius: 0.25em;background-color: #f0f8ff;}#sk-container-id-10 input.sk-toggleable__control:checked~div.sk-toggleable__content {max-height: 200px;max-width: 100%;overflow: auto;}#sk-container-id-10 input.sk-toggleable__control:checked~label.sk-toggleable__label-arrow:before {content: \"▾\";}#sk-container-id-10 div.sk-estimator input.sk-toggleable__control:checked~label.sk-toggleable__label {background-color: #d4ebff;}#sk-container-id-10 div.sk-label input.sk-toggleable__control:checked~label.sk-toggleable__label {background-color: #d4ebff;}#sk-container-id-10 input.sk-hidden--visually {border: 0;clip: rect(1px 1px 1px 1px);clip: rect(1px, 1px, 1px, 1px);height: 1px;margin: -1px;overflow: hidden;padding: 0;position: absolute;width: 1px;}#sk-container-id-10 div.sk-estimator {font-family: monospace;background-color: #f0f8ff;border: 1px dotted black;border-radius: 0.25em;box-sizing: border-box;margin-bottom: 0.5em;}#sk-container-id-10 div.sk-estimator:hover {background-color: #d4ebff;}#sk-container-id-10 div.sk-parallel-item::after {content: \"\";width: 100%;border-bottom: 1px solid gray;flex-grow: 1;}#sk-container-id-10 div.sk-label:hover label.sk-toggleable__label {background-color: #d4ebff;}#sk-container-id-10 div.sk-serial::before {content: \"\";position: absolute;border-left: 1px solid gray;box-sizing: border-box;top: 0;bottom: 0;left: 50%;z-index: 0;}#sk-container-id-10 div.sk-serial {display: flex;flex-direction: column;align-items: center;background-color: white;padding-right: 0.2em;padding-left: 0.2em;position: relative;}#sk-container-id-10 div.sk-item {position: relative;z-index: 1;}#sk-container-id-10 div.sk-parallel {display: flex;align-items: stretch;justify-content: center;background-color: white;position: relative;}#sk-container-id-10 div.sk-item::before, #sk-container-id-10 div.sk-parallel-item::before {content: \"\";position: absolute;border-left: 1px solid gray;box-sizing: border-box;top: 0;bottom: 0;left: 50%;z-index: -1;}#sk-container-id-10 div.sk-parallel-item {display: flex;flex-direction: column;z-index: 1;position: relative;background-color: white;}#sk-container-id-10 div.sk-parallel-item:first-child::after {align-self: flex-end;width: 50%;}#sk-container-id-10 div.sk-parallel-item:last-child::after {align-self: flex-start;width: 50%;}#sk-container-id-10 div.sk-parallel-item:only-child::after {width: 0;}#sk-container-id-10 div.sk-dashed-wrapped {border: 1px dashed gray;margin: 0 0.4em 0.5em 0.4em;box-sizing: border-box;padding-bottom: 0.4em;background-color: white;}#sk-container-id-10 div.sk-label label {font-family: monospace;font-weight: bold;display: inline-block;line-height: 1.2em;}#sk-container-id-10 div.sk-label-container {text-align: center;}#sk-container-id-10 div.sk-container {/* jupyter's `normalize.less` sets `[hidden] { display: none; }` but bootstrap.min.css set `[hidden] { display: none !important; }` so we also need the `!important` here to be able to override the default hidden behavior on the sphinx rendered scikit-learn.org. See: https://github.com/scikit-learn/scikit-learn/issues/21755 */display: inline-block !important;position: relative;}#sk-container-id-10 div.sk-text-repr-fallback {display: none;}</style><div id=\"sk-container-id-10\" class=\"sk-top-container\"><div class=\"sk-text-repr-fallback\"><pre>SVR()</pre><b>In a Jupyter environment, please rerun this cell to show the HTML representation or trust the notebook. <br />On GitHub, the HTML representation is unable to render, please try loading this page with nbviewer.org.</b></div><div class=\"sk-container\" hidden><div class=\"sk-item\"><div class=\"sk-estimator sk-toggleable\"><input class=\"sk-toggleable__control sk-hidden--visually\" id=\"sk-estimator-id-18\" type=\"checkbox\" checked><label for=\"sk-estimator-id-18\" class=\"sk-toggleable__label sk-toggleable__label-arrow\">SVR</label><div class=\"sk-toggleable__content\"><pre>SVR()</pre></div></div></div></div></div>"
      ],
      "text/plain": [
       "SVR()"
      ]
     },
     "execution_count": 39,
     "metadata": {},
     "output_type": "execute_result"
    }
   ],
   "source": [
    "parameters_svc = {\"kernel\": [\"linear\", \"rbf\"], \"C\": [0.1, 1]}\n",
    "svc_model = SVR()\n",
    "svc_model"
   ]
  },
  {
   "cell_type": "code",
   "execution_count": 21,
   "id": "3c2fceb9-1e2b-4781-8dcd-e2c240138e9a",
   "metadata": {},
   "outputs": [
    {
     "data": {
      "text/plain": [
       "ShuffleSplit(n_splits=4, random_state=2023, test_size=0.2, train_size=None)"
      ]
     },
     "execution_count": 21,
     "metadata": {},
     "output_type": "execute_result"
    }
   ],
   "source": [
    "indexes = ShuffleSplit(n_splits = 4, test_size = 0.2, random_state = 2023)\n",
    "indexes"
   ]
  },
  {
   "cell_type": "code",
   "execution_count": 22,
   "id": "a39a6b5d-1275-432d-b0d9-83449641780b",
   "metadata": {},
   "outputs": [
    {
     "data": {
      "text/plain": [
       "make_scorer(mean_squared_error)"
      ]
     },
     "execution_count": 22,
     "metadata": {},
     "output_type": "execute_result"
    }
   ],
   "source": [
    "mse = make_scorer(mean_squared_error)\n",
    "scores = {'mse': mse}\n",
    "mse"
   ]
  },
  {
   "cell_type": "code",
   "execution_count": 23,
   "id": "886fe2e2-1fff-4d28-b56b-0734823c746d",
   "metadata": {},
   "outputs": [
    {
     "data": {
      "text/html": [
       "<style>#sk-container-id-3 {color: black;}#sk-container-id-3 pre{padding: 0;}#sk-container-id-3 div.sk-toggleable {background-color: white;}#sk-container-id-3 label.sk-toggleable__label {cursor: pointer;display: block;width: 100%;margin-bottom: 0;padding: 0.3em;box-sizing: border-box;text-align: center;}#sk-container-id-3 label.sk-toggleable__label-arrow:before {content: \"▸\";float: left;margin-right: 0.25em;color: #696969;}#sk-container-id-3 label.sk-toggleable__label-arrow:hover:before {color: black;}#sk-container-id-3 div.sk-estimator:hover label.sk-toggleable__label-arrow:before {color: black;}#sk-container-id-3 div.sk-toggleable__content {max-height: 0;max-width: 0;overflow: hidden;text-align: left;background-color: #f0f8ff;}#sk-container-id-3 div.sk-toggleable__content pre {margin: 0.2em;color: black;border-radius: 0.25em;background-color: #f0f8ff;}#sk-container-id-3 input.sk-toggleable__control:checked~div.sk-toggleable__content {max-height: 200px;max-width: 100%;overflow: auto;}#sk-container-id-3 input.sk-toggleable__control:checked~label.sk-toggleable__label-arrow:before {content: \"▾\";}#sk-container-id-3 div.sk-estimator input.sk-toggleable__control:checked~label.sk-toggleable__label {background-color: #d4ebff;}#sk-container-id-3 div.sk-label input.sk-toggleable__control:checked~label.sk-toggleable__label {background-color: #d4ebff;}#sk-container-id-3 input.sk-hidden--visually {border: 0;clip: rect(1px 1px 1px 1px);clip: rect(1px, 1px, 1px, 1px);height: 1px;margin: -1px;overflow: hidden;padding: 0;position: absolute;width: 1px;}#sk-container-id-3 div.sk-estimator {font-family: monospace;background-color: #f0f8ff;border: 1px dotted black;border-radius: 0.25em;box-sizing: border-box;margin-bottom: 0.5em;}#sk-container-id-3 div.sk-estimator:hover {background-color: #d4ebff;}#sk-container-id-3 div.sk-parallel-item::after {content: \"\";width: 100%;border-bottom: 1px solid gray;flex-grow: 1;}#sk-container-id-3 div.sk-label:hover label.sk-toggleable__label {background-color: #d4ebff;}#sk-container-id-3 div.sk-serial::before {content: \"\";position: absolute;border-left: 1px solid gray;box-sizing: border-box;top: 0;bottom: 0;left: 50%;z-index: 0;}#sk-container-id-3 div.sk-serial {display: flex;flex-direction: column;align-items: center;background-color: white;padding-right: 0.2em;padding-left: 0.2em;position: relative;}#sk-container-id-3 div.sk-item {position: relative;z-index: 1;}#sk-container-id-3 div.sk-parallel {display: flex;align-items: stretch;justify-content: center;background-color: white;position: relative;}#sk-container-id-3 div.sk-item::before, #sk-container-id-3 div.sk-parallel-item::before {content: \"\";position: absolute;border-left: 1px solid gray;box-sizing: border-box;top: 0;bottom: 0;left: 50%;z-index: -1;}#sk-container-id-3 div.sk-parallel-item {display: flex;flex-direction: column;z-index: 1;position: relative;background-color: white;}#sk-container-id-3 div.sk-parallel-item:first-child::after {align-self: flex-end;width: 50%;}#sk-container-id-3 div.sk-parallel-item:last-child::after {align-self: flex-start;width: 50%;}#sk-container-id-3 div.sk-parallel-item:only-child::after {width: 0;}#sk-container-id-3 div.sk-dashed-wrapped {border: 1px dashed gray;margin: 0 0.4em 0.5em 0.4em;box-sizing: border-box;padding-bottom: 0.4em;background-color: white;}#sk-container-id-3 div.sk-label label {font-family: monospace;font-weight: bold;display: inline-block;line-height: 1.2em;}#sk-container-id-3 div.sk-label-container {text-align: center;}#sk-container-id-3 div.sk-container {/* jupyter's `normalize.less` sets `[hidden] { display: none; }` but bootstrap.min.css set `[hidden] { display: none !important; }` so we also need the `!important` here to be able to override the default hidden behavior on the sphinx rendered scikit-learn.org. See: https://github.com/scikit-learn/scikit-learn/issues/21755 */display: inline-block !important;position: relative;}#sk-container-id-3 div.sk-text-repr-fallback {display: none;}</style><div id=\"sk-container-id-3\" class=\"sk-top-container\"><div class=\"sk-text-repr-fallback\"><pre>GridSearchCV(cv=ShuffleSplit(n_splits=4, random_state=2023, test_size=0.2, train_size=None),\n",
       "             estimator=SVR(),\n",
       "             param_grid={&#x27;C&#x27;: [0.1, 1], &#x27;kernel&#x27;: [&#x27;linear&#x27;, &#x27;rbf&#x27;]},\n",
       "             refit=&#x27;mse&#x27;, return_train_score=True,\n",
       "             scoring={&#x27;mse&#x27;: make_scorer(mean_squared_error)}, verbose=1)</pre><b>In a Jupyter environment, please rerun this cell to show the HTML representation or trust the notebook. <br />On GitHub, the HTML representation is unable to render, please try loading this page with nbviewer.org.</b></div><div class=\"sk-container\" hidden><div class=\"sk-item sk-dashed-wrapped\"><div class=\"sk-label-container\"><div class=\"sk-label sk-toggleable\"><input class=\"sk-toggleable__control sk-hidden--visually\" id=\"sk-estimator-id-3\" type=\"checkbox\" ><label for=\"sk-estimator-id-3\" class=\"sk-toggleable__label sk-toggleable__label-arrow\">GridSearchCV</label><div class=\"sk-toggleable__content\"><pre>GridSearchCV(cv=ShuffleSplit(n_splits=4, random_state=2023, test_size=0.2, train_size=None),\n",
       "             estimator=SVR(),\n",
       "             param_grid={&#x27;C&#x27;: [0.1, 1], &#x27;kernel&#x27;: [&#x27;linear&#x27;, &#x27;rbf&#x27;]},\n",
       "             refit=&#x27;mse&#x27;, return_train_score=True,\n",
       "             scoring={&#x27;mse&#x27;: make_scorer(mean_squared_error)}, verbose=1)</pre></div></div></div><div class=\"sk-parallel\"><div class=\"sk-parallel-item\"><div class=\"sk-item\"><div class=\"sk-label-container\"><div class=\"sk-label sk-toggleable\"><input class=\"sk-toggleable__control sk-hidden--visually\" id=\"sk-estimator-id-4\" type=\"checkbox\" ><label for=\"sk-estimator-id-4\" class=\"sk-toggleable__label sk-toggleable__label-arrow\">estimator: SVR</label><div class=\"sk-toggleable__content\"><pre>SVR()</pre></div></div></div><div class=\"sk-serial\"><div class=\"sk-item\"><div class=\"sk-estimator sk-toggleable\"><input class=\"sk-toggleable__control sk-hidden--visually\" id=\"sk-estimator-id-5\" type=\"checkbox\" ><label for=\"sk-estimator-id-5\" class=\"sk-toggleable__label sk-toggleable__label-arrow\">SVR</label><div class=\"sk-toggleable__content\"><pre>SVR()</pre></div></div></div></div></div></div></div></div></div></div>"
      ],
      "text/plain": [
       "GridSearchCV(cv=ShuffleSplit(n_splits=4, random_state=2023, test_size=0.2, train_size=None),\n",
       "             estimator=SVR(),\n",
       "             param_grid={'C': [0.1, 1], 'kernel': ['linear', 'rbf']},\n",
       "             refit='mse', return_train_score=True,\n",
       "             scoring={'mse': make_scorer(mean_squared_error)}, verbose=1)"
      ]
     },
     "execution_count": 23,
     "metadata": {},
     "output_type": "execute_result"
    }
   ],
   "source": [
    "clf = GridSearchCV(svc_model, parameters_svc, scoring = scores, cv = indexes, return_train_score = True, refit = \"mse\", verbose = 1)\n",
    "clf"
   ]
  },
  {
   "cell_type": "code",
   "execution_count": 27,
   "id": "2a604a75-7b9b-47f1-90e9-6e5506dad70a",
   "metadata": {},
   "outputs": [
    {
     "name": "stdout",
     "output_type": "stream",
     "text": [
      "Fitting 4 folds for each of 4 candidates, totalling 16 fits\n"
     ]
    }
   ],
   "source": [
    "with mlflow.start_run(experiment_id=exp_id):\n",
    "    clf.fit(X_standardized, targets)"
   ]
  },
  {
   "cell_type": "code",
   "execution_count": 28,
   "id": "312b8e0f-c181-41f4-9508-5ddc04957e2a",
   "metadata": {},
   "outputs": [],
   "source": [
    "outcomes = pd.DataFrame(clf.cv_results_)\n",
    "outcomes = outcomes[['params', 'mean_train_mse', 'mean_test_mse', 'std_test_mse']]"
   ]
  },
  {
   "cell_type": "code",
   "execution_count": 29,
   "id": "720164b0-9577-47d6-8577-6f750b450ab3",
   "metadata": {},
   "outputs": [
    {
     "data": {
      "text/html": [
       "<div>\n",
       "<style scoped>\n",
       "    .dataframe tbody tr th:only-of-type {\n",
       "        vertical-align: middle;\n",
       "    }\n",
       "\n",
       "    .dataframe tbody tr th {\n",
       "        vertical-align: top;\n",
       "    }\n",
       "\n",
       "    .dataframe thead th {\n",
       "        text-align: right;\n",
       "    }\n",
       "</style>\n",
       "<table border=\"1\" class=\"dataframe\">\n",
       "  <thead>\n",
       "    <tr style=\"text-align: right;\">\n",
       "      <th></th>\n",
       "      <th>params</th>\n",
       "      <th>mean_train_mse</th>\n",
       "      <th>mean_test_mse</th>\n",
       "      <th>std_test_mse</th>\n",
       "    </tr>\n",
       "  </thead>\n",
       "  <tbody>\n",
       "    <tr>\n",
       "      <th>0</th>\n",
       "      <td>{'C': 0.1, 'kernel': 'linear'}</td>\n",
       "      <td>48311.241049</td>\n",
       "      <td>60033.889293</td>\n",
       "      <td>53197.563958</td>\n",
       "    </tr>\n",
       "    <tr>\n",
       "      <th>1</th>\n",
       "      <td>{'C': 0.1, 'kernel': 'rbf'}</td>\n",
       "      <td>48311.187954</td>\n",
       "      <td>60035.663902</td>\n",
       "      <td>53198.914133</td>\n",
       "    </tr>\n",
       "    <tr>\n",
       "      <th>2</th>\n",
       "      <td>{'C': 1, 'kernel': 'linear'}</td>\n",
       "      <td>48311.469312</td>\n",
       "      <td>60034.031243</td>\n",
       "      <td>53197.654425</td>\n",
       "    </tr>\n",
       "    <tr>\n",
       "      <th>3</th>\n",
       "      <td>{'C': 1, 'kernel': 'rbf'}</td>\n",
       "      <td>48297.255770</td>\n",
       "      <td>60025.544113</td>\n",
       "      <td>53189.720907</td>\n",
       "    </tr>\n",
       "  </tbody>\n",
       "</table>\n",
       "</div>"
      ],
      "text/plain": [
       "                           params  mean_train_mse  mean_test_mse  std_test_mse\n",
       "0  {'C': 0.1, 'kernel': 'linear'}    48311.241049   60033.889293  53197.563958\n",
       "1     {'C': 0.1, 'kernel': 'rbf'}    48311.187954   60035.663902  53198.914133\n",
       "2    {'C': 1, 'kernel': 'linear'}    48311.469312   60034.031243  53197.654425\n",
       "3       {'C': 1, 'kernel': 'rbf'}    48297.255770   60025.544113  53189.720907"
      ]
     },
     "execution_count": 29,
     "metadata": {},
     "output_type": "execute_result"
    }
   ],
   "source": [
    "outcomes"
   ]
  },
  {
   "cell_type": "markdown",
   "id": "6c396348-7321-4ad4-a10f-c768167743f5",
   "metadata": {},
   "source": [
    "---"
   ]
  },
  {
   "cell_type": "markdown",
   "id": "7bda4616-000a-4846-b163-df6d8c349ff6",
   "metadata": {},
   "source": [
    "**GridSearch for Several Models**"
   ]
  },
  {
   "cell_type": "code",
   "execution_count": 33,
   "id": "a09c7ff2-a962-45a5-af8b-853406e022cf",
   "metadata": {},
   "outputs": [],
   "source": [
    "experiment_name = 'GridSearchRegressionMLflow'\n",
    "try:\n",
    "    exp_id = mlflow.create_experiment(name=experiment_name)\n",
    "except Exception as e:\n",
    "    exp_id = mlflow.get_experiment_by_name(experiment_name).experiment_id"
   ]
  },
  {
   "cell_type": "code",
   "execution_count": 40,
   "id": "9246d283-ebcd-4597-963a-88645291e4ae",
   "metadata": {},
   "outputs": [
    {
     "data": {
      "text/html": [
       "<style>#sk-container-id-11 {color: black;}#sk-container-id-11 pre{padding: 0;}#sk-container-id-11 div.sk-toggleable {background-color: white;}#sk-container-id-11 label.sk-toggleable__label {cursor: pointer;display: block;width: 100%;margin-bottom: 0;padding: 0.3em;box-sizing: border-box;text-align: center;}#sk-container-id-11 label.sk-toggleable__label-arrow:before {content: \"▸\";float: left;margin-right: 0.25em;color: #696969;}#sk-container-id-11 label.sk-toggleable__label-arrow:hover:before {color: black;}#sk-container-id-11 div.sk-estimator:hover label.sk-toggleable__label-arrow:before {color: black;}#sk-container-id-11 div.sk-toggleable__content {max-height: 0;max-width: 0;overflow: hidden;text-align: left;background-color: #f0f8ff;}#sk-container-id-11 div.sk-toggleable__content pre {margin: 0.2em;color: black;border-radius: 0.25em;background-color: #f0f8ff;}#sk-container-id-11 input.sk-toggleable__control:checked~div.sk-toggleable__content {max-height: 200px;max-width: 100%;overflow: auto;}#sk-container-id-11 input.sk-toggleable__control:checked~label.sk-toggleable__label-arrow:before {content: \"▾\";}#sk-container-id-11 div.sk-estimator input.sk-toggleable__control:checked~label.sk-toggleable__label {background-color: #d4ebff;}#sk-container-id-11 div.sk-label input.sk-toggleable__control:checked~label.sk-toggleable__label {background-color: #d4ebff;}#sk-container-id-11 input.sk-hidden--visually {border: 0;clip: rect(1px 1px 1px 1px);clip: rect(1px, 1px, 1px, 1px);height: 1px;margin: -1px;overflow: hidden;padding: 0;position: absolute;width: 1px;}#sk-container-id-11 div.sk-estimator {font-family: monospace;background-color: #f0f8ff;border: 1px dotted black;border-radius: 0.25em;box-sizing: border-box;margin-bottom: 0.5em;}#sk-container-id-11 div.sk-estimator:hover {background-color: #d4ebff;}#sk-container-id-11 div.sk-parallel-item::after {content: \"\";width: 100%;border-bottom: 1px solid gray;flex-grow: 1;}#sk-container-id-11 div.sk-label:hover label.sk-toggleable__label {background-color: #d4ebff;}#sk-container-id-11 div.sk-serial::before {content: \"\";position: absolute;border-left: 1px solid gray;box-sizing: border-box;top: 0;bottom: 0;left: 50%;z-index: 0;}#sk-container-id-11 div.sk-serial {display: flex;flex-direction: column;align-items: center;background-color: white;padding-right: 0.2em;padding-left: 0.2em;position: relative;}#sk-container-id-11 div.sk-item {position: relative;z-index: 1;}#sk-container-id-11 div.sk-parallel {display: flex;align-items: stretch;justify-content: center;background-color: white;position: relative;}#sk-container-id-11 div.sk-item::before, #sk-container-id-11 div.sk-parallel-item::before {content: \"\";position: absolute;border-left: 1px solid gray;box-sizing: border-box;top: 0;bottom: 0;left: 50%;z-index: -1;}#sk-container-id-11 div.sk-parallel-item {display: flex;flex-direction: column;z-index: 1;position: relative;background-color: white;}#sk-container-id-11 div.sk-parallel-item:first-child::after {align-self: flex-end;width: 50%;}#sk-container-id-11 div.sk-parallel-item:last-child::after {align-self: flex-start;width: 50%;}#sk-container-id-11 div.sk-parallel-item:only-child::after {width: 0;}#sk-container-id-11 div.sk-dashed-wrapped {border: 1px dashed gray;margin: 0 0.4em 0.5em 0.4em;box-sizing: border-box;padding-bottom: 0.4em;background-color: white;}#sk-container-id-11 div.sk-label label {font-family: monospace;font-weight: bold;display: inline-block;line-height: 1.2em;}#sk-container-id-11 div.sk-label-container {text-align: center;}#sk-container-id-11 div.sk-container {/* jupyter's `normalize.less` sets `[hidden] { display: none; }` but bootstrap.min.css set `[hidden] { display: none !important; }` so we also need the `!important` here to be able to override the default hidden behavior on the sphinx rendered scikit-learn.org. See: https://github.com/scikit-learn/scikit-learn/issues/21755 */display: inline-block !important;position: relative;}#sk-container-id-11 div.sk-text-repr-fallback {display: none;}</style><div id=\"sk-container-id-11\" class=\"sk-top-container\"><div class=\"sk-text-repr-fallback\"><pre>RandomForestRegressor()</pre><b>In a Jupyter environment, please rerun this cell to show the HTML representation or trust the notebook. <br />On GitHub, the HTML representation is unable to render, please try loading this page with nbviewer.org.</b></div><div class=\"sk-container\" hidden><div class=\"sk-item\"><div class=\"sk-estimator sk-toggleable\"><input class=\"sk-toggleable__control sk-hidden--visually\" id=\"sk-estimator-id-19\" type=\"checkbox\" checked><label for=\"sk-estimator-id-19\" class=\"sk-toggleable__label sk-toggleable__label-arrow\">RandomForestRegressor</label><div class=\"sk-toggleable__content\"><pre>RandomForestRegressor()</pre></div></div></div></div></div>"
      ],
      "text/plain": [
       "RandomForestRegressor()"
      ]
     },
     "execution_count": 40,
     "metadata": {},
     "output_type": "execute_result"
    }
   ],
   "source": [
    "rf_model = RandomForestRegressor()\n",
    "parameters_rf = {'n_estimators': [5, 10, 15], \n",
    "                     'max_features': [2, 4, 6]}\n",
    "rf_model"
   ]
  },
  {
   "cell_type": "code",
   "execution_count": 41,
   "id": "3517652e-82c1-4b85-946a-8eeabfddcaed",
   "metadata": {},
   "outputs": [
    {
     "data": {
      "text/plain": [
       "{SVR(): {'kernel': ['linear', 'rbf'], 'C': [0.1, 1]},\n",
       " RandomForestRegressor(): {'n_estimators': [5, 10, 15],\n",
       "  'max_features': [2, 4, 6]}}"
      ]
     },
     "execution_count": 41,
     "metadata": {},
     "output_type": "execute_result"
    }
   ],
   "source": [
    "models = {svc_model: parameters_svc, rf_model: parameters_rf}\n",
    "models"
   ]
  },
  {
   "cell_type": "code",
   "execution_count": 43,
   "id": "5c7bb1a3-ffa4-48de-aaa6-886dff3ac4d4",
   "metadata": {},
   "outputs": [
    {
     "name": "stdout",
     "output_type": "stream",
     "text": [
      "SVR()\n",
      "Fitting 4 folds for each of 4 candidates, totalling 16 fits\n",
      "                           params  mean_train_mse  mean_test_mse  std_test_mse\n",
      "0  {'C': 0.1, 'kernel': 'linear'}    48311.241049   60033.889293  53197.563958\n",
      "1     {'C': 0.1, 'kernel': 'rbf'}    48311.187954   60035.663902  53198.914133\n",
      "2    {'C': 1, 'kernel': 'linear'}    48311.469312   60034.031243  53197.654425\n",
      "3       {'C': 1, 'kernel': 'rbf'}    48297.255770   60025.544113  53189.720907\n",
      "RandomForestRegressor()\n",
      "Fitting 4 folds for each of 9 candidates, totalling 36 fits\n",
      "                                    params  mean_train_mse  mean_test_mse  \\\n",
      "0   {'max_features': 2, 'n_estimators': 5}     2129.921811   19108.166702   \n",
      "1  {'max_features': 2, 'n_estimators': 10}      745.366433    5618.135655   \n",
      "2  {'max_features': 2, 'n_estimators': 15}     1307.430345    5793.386145   \n",
      "3   {'max_features': 4, 'n_estimators': 5}     1220.732996    5657.279544   \n",
      "4  {'max_features': 4, 'n_estimators': 10}      732.878392    2677.676773   \n",
      "5  {'max_features': 4, 'n_estimators': 15}     1116.656885    3158.950115   \n",
      "6   {'max_features': 6, 'n_estimators': 5}      418.235634    1609.359834   \n",
      "7  {'max_features': 6, 'n_estimators': 10}      258.426565     853.393346   \n",
      "8  {'max_features': 6, 'n_estimators': 15}      682.233092    2508.821405   \n",
      "\n",
      "   std_test_mse  \n",
      "0  14477.060418  \n",
      "1   5935.038588  \n",
      "2   4875.075124  \n",
      "3   4462.172920  \n",
      "4   1834.145234  \n",
      "5   3042.654248  \n",
      "6   1600.604838  \n",
      "7    781.190534  \n",
      "8   2599.544086  \n"
     ]
    }
   ],
   "source": [
    "for model, parameters in models.items():\n",
    "    run_name = str(model)\n",
    "    print(run_name)\n",
    "    with mlflow.start_run(experiment_id=exp_id, run_name=run_name):\n",
    "        clf = GridSearchCV(model, parameters, scoring = scores, cv = indexes, \n",
    "                           return_train_score = True, refit = \"mse\", verbose = 1)\n",
    "        clf.fit(X_standardized, targets)\n",
    "        outcomes = pd.DataFrame(clf.cv_results_)\n",
    "        outcomes = outcomes[['params', 'mean_train_mse', 'mean_test_mse', 'std_test_mse']]\n",
    "        print(outcomes)"
   ]
  },
  {
   "cell_type": "code",
   "execution_count": null,
   "id": "a3639dff-0aff-435b-a57f-4a4dd9568969",
   "metadata": {},
   "outputs": [],
   "source": []
  }
 ],
 "metadata": {
  "kernelspec": {
   "display_name": "Python 3 (ipykernel)",
   "language": "python",
   "name": "python3"
  },
  "language_info": {
   "codemirror_mode": {
    "name": "ipython",
    "version": 3
   },
   "file_extension": ".py",
   "mimetype": "text/x-python",
   "name": "python",
   "nbconvert_exporter": "python",
   "pygments_lexer": "ipython3",
   "version": "3.10.13"
  }
 },
 "nbformat": 4,
 "nbformat_minor": 5
}
