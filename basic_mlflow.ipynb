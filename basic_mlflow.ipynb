{
 "cells": [
  {
   "cell_type": "code",
   "execution_count": 1,
   "id": "b1385eda-af96-412d-b44e-e671966d6acd",
   "metadata": {},
   "outputs": [],
   "source": [
    "import mlflow\n",
    "from sklearn.model_selection import train_test_split\n",
    "from sklearn.datasets import load_diabetes\n",
    "from sklearn.ensemble import RandomForestRegressor"
   ]
  },
  {
   "cell_type": "code",
   "execution_count": 22,
   "id": "c6d1ecaa-bbbe-4ffa-93a3-f97396bc26d6",
   "metadata": {},
   "outputs": [],
   "source": [
    "mlflow.set_tracking_uri(\"http://127.0.0.1:5000\")"
   ]
  },
  {
   "cell_type": "code",
   "execution_count": 2,
   "id": "452a8374-be54-440c-b0e0-b1f5305e22d9",
   "metadata": {},
   "outputs": [
    {
     "name": "stderr",
     "output_type": "stream",
     "text": [
      "2023/09/25 11:22:51 WARNING mlflow.utils.autologging_utils: You are using an unsupported version of sklearn. If you encounter errors during autologging, try upgrading / downgrading sklearn to a supported version, or try upgrading MLflow.\n",
      "2023/09/25 11:22:52 INFO mlflow.tracking.fluent: Autologging successfully enabled for sklearn.\n"
     ]
    }
   ],
   "source": [
    "mlflow.autolog()"
   ]
  },
  {
   "cell_type": "code",
   "execution_count": 5,
   "id": "39d6a233-f956-4f1e-ac28-73099bc81961",
   "metadata": {},
   "outputs": [],
   "source": [
    "db = load_diabetes()"
   ]
  },
  {
   "cell_type": "code",
   "execution_count": 8,
   "id": "9b5f5fd9-5d68-4962-9e07-0d756ca61558",
   "metadata": {},
   "outputs": [
    {
     "data": {
      "text/plain": [
       "(442, 442)"
      ]
     },
     "execution_count": 8,
     "metadata": {},
     "output_type": "execute_result"
    }
   ],
   "source": [
    "len(db.data), len(db.target)"
   ]
  },
  {
   "cell_type": "code",
   "execution_count": 10,
   "id": "9d8f197b-5dde-4b6e-b7a8-d2185f661cb8",
   "metadata": {},
   "outputs": [],
   "source": [
    "X = db.data\n",
    "Y = db.target"
   ]
  },
  {
   "cell_type": "code",
   "execution_count": 11,
   "id": "d666f86b-a9be-4a34-a684-604373fa7ba5",
   "metadata": {},
   "outputs": [
    {
     "data": {
      "text/plain": [
       "array([ 0.03807591,  0.05068012,  0.06169621,  0.02187239, -0.0442235 ,\n",
       "       -0.03482076, -0.04340085, -0.00259226,  0.01990749, -0.01764613])"
      ]
     },
     "execution_count": 11,
     "metadata": {},
     "output_type": "execute_result"
    }
   ],
   "source": [
    "X[0]"
   ]
  },
  {
   "cell_type": "code",
   "execution_count": 14,
   "id": "20028008-c5a0-4cc4-a004-b5f6848b598f",
   "metadata": {},
   "outputs": [],
   "source": [
    "X_train, X_test, y_train, y_test = train_test_split(X, Y, test_size = 0.2)"
   ]
  },
  {
   "cell_type": "code",
   "execution_count": 15,
   "id": "09cf4133-f337-42fd-a378-f2682a4259e7",
   "metadata": {},
   "outputs": [
    {
     "data": {
      "text/plain": [
       "(353, 353)"
      ]
     },
     "execution_count": 15,
     "metadata": {},
     "output_type": "execute_result"
    }
   ],
   "source": [
    "len(X_train), len(y_train)"
   ]
  },
  {
   "cell_type": "code",
   "execution_count": 16,
   "id": "e2177e92-8b34-42db-97d5-2c70f48623bf",
   "metadata": {},
   "outputs": [
    {
     "name": "stderr",
     "output_type": "stream",
     "text": [
      "2023/09/25 11:27:56 INFO mlflow.utils.autologging_utils: Created MLflow autologging run with ID 'de2c28ce1ebf44c4843bbb54859c3920', which will track hyperparameters, performance metrics, model artifacts, and lineage information for the current sklearn workflow\n",
      "2023/09/25 11:27:57 WARNING mlflow.utils.autologging_utils: Encountered unexpected error during sklearn autologging: The configured tracking uri scheme: 'file' is invalid for use with the proxy mlflow-artifact scheme. The allowed tracking schemes are: {'http', 'https'}\n"
     ]
    },
    {
     "data": {
      "text/html": [
       "<style>#sk-container-id-2 {color: black;}#sk-container-id-2 pre{padding: 0;}#sk-container-id-2 div.sk-toggleable {background-color: white;}#sk-container-id-2 label.sk-toggleable__label {cursor: pointer;display: block;width: 100%;margin-bottom: 0;padding: 0.3em;box-sizing: border-box;text-align: center;}#sk-container-id-2 label.sk-toggleable__label-arrow:before {content: \"▸\";float: left;margin-right: 0.25em;color: #696969;}#sk-container-id-2 label.sk-toggleable__label-arrow:hover:before {color: black;}#sk-container-id-2 div.sk-estimator:hover label.sk-toggleable__label-arrow:before {color: black;}#sk-container-id-2 div.sk-toggleable__content {max-height: 0;max-width: 0;overflow: hidden;text-align: left;background-color: #f0f8ff;}#sk-container-id-2 div.sk-toggleable__content pre {margin: 0.2em;color: black;border-radius: 0.25em;background-color: #f0f8ff;}#sk-container-id-2 input.sk-toggleable__control:checked~div.sk-toggleable__content {max-height: 200px;max-width: 100%;overflow: auto;}#sk-container-id-2 input.sk-toggleable__control:checked~label.sk-toggleable__label-arrow:before {content: \"▾\";}#sk-container-id-2 div.sk-estimator input.sk-toggleable__control:checked~label.sk-toggleable__label {background-color: #d4ebff;}#sk-container-id-2 div.sk-label input.sk-toggleable__control:checked~label.sk-toggleable__label {background-color: #d4ebff;}#sk-container-id-2 input.sk-hidden--visually {border: 0;clip: rect(1px 1px 1px 1px);clip: rect(1px, 1px, 1px, 1px);height: 1px;margin: -1px;overflow: hidden;padding: 0;position: absolute;width: 1px;}#sk-container-id-2 div.sk-estimator {font-family: monospace;background-color: #f0f8ff;border: 1px dotted black;border-radius: 0.25em;box-sizing: border-box;margin-bottom: 0.5em;}#sk-container-id-2 div.sk-estimator:hover {background-color: #d4ebff;}#sk-container-id-2 div.sk-parallel-item::after {content: \"\";width: 100%;border-bottom: 1px solid gray;flex-grow: 1;}#sk-container-id-2 div.sk-label:hover label.sk-toggleable__label {background-color: #d4ebff;}#sk-container-id-2 div.sk-serial::before {content: \"\";position: absolute;border-left: 1px solid gray;box-sizing: border-box;top: 0;bottom: 0;left: 50%;z-index: 0;}#sk-container-id-2 div.sk-serial {display: flex;flex-direction: column;align-items: center;background-color: white;padding-right: 0.2em;padding-left: 0.2em;position: relative;}#sk-container-id-2 div.sk-item {position: relative;z-index: 1;}#sk-container-id-2 div.sk-parallel {display: flex;align-items: stretch;justify-content: center;background-color: white;position: relative;}#sk-container-id-2 div.sk-item::before, #sk-container-id-2 div.sk-parallel-item::before {content: \"\";position: absolute;border-left: 1px solid gray;box-sizing: border-box;top: 0;bottom: 0;left: 50%;z-index: -1;}#sk-container-id-2 div.sk-parallel-item {display: flex;flex-direction: column;z-index: 1;position: relative;background-color: white;}#sk-container-id-2 div.sk-parallel-item:first-child::after {align-self: flex-end;width: 50%;}#sk-container-id-2 div.sk-parallel-item:last-child::after {align-self: flex-start;width: 50%;}#sk-container-id-2 div.sk-parallel-item:only-child::after {width: 0;}#sk-container-id-2 div.sk-dashed-wrapped {border: 1px dashed gray;margin: 0 0.4em 0.5em 0.4em;box-sizing: border-box;padding-bottom: 0.4em;background-color: white;}#sk-container-id-2 div.sk-label label {font-family: monospace;font-weight: bold;display: inline-block;line-height: 1.2em;}#sk-container-id-2 div.sk-label-container {text-align: center;}#sk-container-id-2 div.sk-container {/* jupyter's `normalize.less` sets `[hidden] { display: none; }` but bootstrap.min.css set `[hidden] { display: none !important; }` so we also need the `!important` here to be able to override the default hidden behavior on the sphinx rendered scikit-learn.org. See: https://github.com/scikit-learn/scikit-learn/issues/21755 */display: inline-block !important;position: relative;}#sk-container-id-2 div.sk-text-repr-fallback {display: none;}</style><div id=\"sk-container-id-2\" class=\"sk-top-container\"><div class=\"sk-text-repr-fallback\"><pre>RandomForestRegressor(max_depth=6, max_features=3)</pre><b>In a Jupyter environment, please rerun this cell to show the HTML representation or trust the notebook. <br />On GitHub, the HTML representation is unable to render, please try loading this page with nbviewer.org.</b></div><div class=\"sk-container\" hidden><div class=\"sk-item\"><div class=\"sk-estimator sk-toggleable\"><input class=\"sk-toggleable__control sk-hidden--visually\" id=\"sk-estimator-id-2\" type=\"checkbox\" checked><label for=\"sk-estimator-id-2\" class=\"sk-toggleable__label sk-toggleable__label-arrow\">RandomForestRegressor</label><div class=\"sk-toggleable__content\"><pre>RandomForestRegressor(max_depth=6, max_features=3)</pre></div></div></div></div></div>"
      ],
      "text/plain": [
       "RandomForestRegressor(max_depth=6, max_features=3)"
      ]
     },
     "execution_count": 16,
     "metadata": {},
     "output_type": "execute_result"
    }
   ],
   "source": [
    "rf = RandomForestRegressor(n_estimators=100, max_depth=6, max_features=3)\n",
    "rf.fit(X_train, y_train)"
   ]
  },
  {
   "cell_type": "code",
   "execution_count": 17,
   "id": "e1bc6c17-abb9-43ec-b49a-5d8f4e67e66f",
   "metadata": {},
   "outputs": [],
   "source": [
    "predictions = rf.predict(X_test)"
   ]
  },
  {
   "cell_type": "code",
   "execution_count": 18,
   "id": "5f565f91-4f13-408a-82a7-5e08ae522782",
   "metadata": {},
   "outputs": [
    {
     "data": {
      "text/plain": [
       "array([212.19584006, 160.94158352,  81.76996807, 146.69234922,\n",
       "       229.14406485,  78.6379093 , 193.73336827, 125.42297526,\n",
       "       105.61627391, 107.11237334, 165.98770907, 184.48589898,\n",
       "       241.18534423,  93.33844004,  86.96575625, 117.17204995,\n",
       "       218.54537594, 158.31570556, 100.05447328,  91.22197625,\n",
       "       111.17863763, 207.44659296, 187.15397844,  85.32594601,\n",
       "       113.31924564, 114.3847372 , 169.33672333,  93.7635207 ,\n",
       "       177.23394492,  89.01139492, 198.36217473, 133.82345131,\n",
       "        85.56058423, 140.1212533 , 167.09950235, 186.82291143,\n",
       "       105.38292616, 177.81345348,  90.8837377 , 196.21264907,\n",
       "       129.08986116, 147.56199869,  84.70099141, 237.31871824,\n",
       "       156.96865981,  95.35924934, 107.32380981, 188.68245194,\n",
       "       104.75553435, 206.8318615 , 200.25128436, 123.8546411 ,\n",
       "       167.37205689, 220.0309398 , 184.17098297, 225.76571349,\n",
       "       153.53062579, 197.75294338, 241.43249246, 229.73672499,\n",
       "       157.16039961, 147.05361782, 176.80163392, 178.19132925,\n",
       "       226.08109035, 103.74856017, 243.67463841, 178.89852471,\n",
       "       232.57199401, 177.16476726, 184.34596859, 136.58634632,\n",
       "       224.9505529 , 148.82502186, 105.3812504 ,  95.95727514,\n",
       "       128.15492776, 155.32914473, 106.8713684 ,  95.94318996,\n",
       "        87.49958538, 235.64426404, 133.63534286, 144.51987269,\n",
       "        97.57252082,  79.02814058, 178.48266104, 133.14908287,\n",
       "       267.55637635])"
      ]
     },
     "execution_count": 18,
     "metadata": {},
     "output_type": "execute_result"
    }
   ],
   "source": [
    "predictions"
   ]
  },
  {
   "cell_type": "code",
   "execution_count": 23,
   "id": "4502cc5a-2b1f-4ea3-b610-b4306bee2c44",
   "metadata": {},
   "outputs": [
    {
     "name": "stderr",
     "output_type": "stream",
     "text": [
      "2023/09/25 12:01:03 INFO mlflow.utils.autologging_utils: Created MLflow autologging run with ID '586ed5a63eb8446fbeb71f9abf06c58b', which will track hyperparameters, performance metrics, model artifacts, and lineage information for the current sklearn workflow\n",
      "2023/09/25 12:01:11 WARNING mlflow.utils.autologging_utils: MLflow autologging encountered a warning: \"C:\\Users\\kevin\\.conda\\envs\\mlflow\\lib\\site-packages\\_distutils_hack\\__init__.py:33: UserWarning: Setuptools is replacing distutils.\"\n"
     ]
    },
    {
     "data": {
      "text/plain": [
       "array([225.15320111, 167.221193  ,  72.91993802, 151.54976735,\n",
       "       236.20089713,  81.68417418, 208.09329206, 135.83161137,\n",
       "        98.11008071, 106.54817803, 167.93673852, 179.71024505,\n",
       "       245.63397663,  79.29755697,  82.39815309, 106.14682444,\n",
       "       226.1500166 , 138.79526364,  98.92675168,  87.90407561,\n",
       "        87.89822887, 192.74461382, 193.72453675,  84.52452131,\n",
       "       111.66378208, 121.75428428, 177.30442009,  82.67756897,\n",
       "       181.62218211,  93.79668207, 205.35556983, 131.43079447,\n",
       "        80.14204845, 122.39564178, 162.28547592, 189.87992539,\n",
       "       112.77655035, 185.52972279,  85.98086585, 199.66655707,\n",
       "       121.95742026, 145.33228197,  76.76826626, 245.49013836,\n",
       "       147.03642429,  94.75834077,  99.85729937, 195.7733672 ,\n",
       "       105.22994627, 209.58654066, 195.66791437, 117.7022373 ,\n",
       "       160.03080213, 226.87212873, 172.03331584, 219.95272861,\n",
       "       146.12548086, 209.9794697 , 244.34897842, 251.1665344 ,\n",
       "       156.76449194, 154.53598066, 179.11836435, 184.8301325 ,\n",
       "       234.0170705 , 101.41254117, 245.47561061, 188.37721231,\n",
       "       246.43101599, 184.37602678, 193.55799583, 122.50828688,\n",
       "       224.18417773, 153.868506  , 104.12651562,  89.8387433 ,\n",
       "       137.37221224, 160.90947653,  95.88295639,  89.55711823,\n",
       "        78.12841757, 238.79696271, 129.02486422, 143.39774927,\n",
       "       101.49693857,  74.48586958, 190.05483138, 121.69609896,\n",
       "       285.40172146])"
      ]
     },
     "execution_count": 23,
     "metadata": {},
     "output_type": "execute_result"
    }
   ],
   "source": [
    "rf = RandomForestRegressor(n_estimators=200, max_depth=8, max_features=5)\n",
    "rf.fit(X_train, y_train)\n",
    "predictions = rf.predict(X_test)\n",
    "predictions"
   ]
  }
 ],
 "metadata": {
  "kernelspec": {
   "display_name": "Python 3 (ipykernel)",
   "language": "python",
   "name": "python3"
  },
  "language_info": {
   "codemirror_mode": {
    "name": "ipython",
    "version": 3
   },
   "file_extension": ".py",
   "mimetype": "text/x-python",
   "name": "python",
   "nbconvert_exporter": "python",
   "pygments_lexer": "ipython3",
   "version": "3.10.13"
  }
 },
 "nbformat": 4,
 "nbformat_minor": 5
}
